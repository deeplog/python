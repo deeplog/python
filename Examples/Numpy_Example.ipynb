{
 "cells": [
  {
   "cell_type": "markdown",
   "id": "f820c73e-a2cd-42f8-b3e8-ee30db3d6af0",
   "metadata": {
    "tags": []
   },
   "source": [
    "# 브로드캐스팅 예제"
   ]
  },
  {
   "cell_type": "markdown",
   "id": "f7445580-248f-4651-98f3-9789b33db11e",
   "metadata": {
    "tags": []
   },
   "source": [
    "## 브로드캐스팅 예제"
   ]
  },
  {
   "cell_type": "code",
   "execution_count": 3,
   "id": "fb4d06be-714b-408a-8c11-8893ad8debe3",
   "metadata": {
    "tags": []
   },
   "outputs": [],
   "source": [
    "import numpy as np\n",
    "import pandas as pd"
   ]
  },
  {
   "cell_type": "code",
   "execution_count": 4,
   "id": "bdb9482d-d915-4b22-b891-6c4f4d3062b4",
   "metadata": {
    "tags": []
   },
   "outputs": [
    {
     "name": "stdout",
     "output_type": "stream",
     "text": [
      "[[1. 1. 1.]\n",
      " [1. 1. 1.]]\n",
      "[0 1 2]\n"
     ]
    },
    {
     "data": {
      "text/plain": [
       "array([[1., 2., 3.],\n",
       "       [1., 2., 3.]])"
      ]
     },
     "execution_count": 4,
     "metadata": {},
     "output_type": "execute_result"
    }
   ],
   "source": [
    "M=np.ones((2,3))\n",
    "a=np.arange(3)\n",
    "\n",
    "print(M) # (2,3)\n",
    "print(a) # (3,) => (1,3) => (2,3)\n",
    "M+a "
   ]
  },
  {
   "cell_type": "markdown",
   "id": "9186c981-0356-46a0-8cb7-792d39038732",
   "metadata": {
    "tags": []
   },
   "source": [
    "## 브로드캐스팅 예제"
   ]
  },
  {
   "cell_type": "code",
   "execution_count": 5,
   "id": "c4ce8ca0-0cea-44fe-b30e-b99e9b0b54a3",
   "metadata": {
    "tags": []
   },
   "outputs": [
    {
     "data": {
      "text/plain": [
       "array([[0, 1, 2],\n",
       "       [1, 2, 3],\n",
       "       [2, 3, 4]])"
      ]
     },
     "execution_count": 5,
     "metadata": {},
     "output_type": "execute_result"
    }
   ],
   "source": [
    "a = np.arange(3).reshape((3,1))\n",
    "b = np.arange(3) \n",
    "\n",
    "a #(3,1) ==> (3,3) \n",
    "b #(3,) => (1,3)==>(3,3)\n",
    "a+b # "
   ]
  },
  {
   "cell_type": "markdown",
   "id": "89eb73f7-d409-4c1d-9b52-b21571915e20",
   "metadata": {},
   "source": [
    "## 센터링 예제"
   ]
  },
  {
   "cell_type": "code",
   "execution_count": 6,
   "id": "9e77f6ed-d7dd-4229-ac01-2b2665bac192",
   "metadata": {
    "tags": []
   },
   "outputs": [],
   "source": [
    "#아래의 10*3 배열을 브로드캐스팅을 이용하여 centering 하세요\n",
    "#X.mean(0)은 첫번째 차원의 특성별 평균\n",
    "X=np.random.random((10,3))"
   ]
  },
  {
   "cell_type": "code",
   "execution_count": 7,
   "id": "dad169b7-a7f6-484c-88c6-6d388e9adffa",
   "metadata": {
    "tags": []
   },
   "outputs": [
    {
     "data": {
      "text/plain": [
       "array([[ 0.3667561 , -0.22389266,  0.22104195],\n",
       "       [-0.29219069, -0.16882187, -0.43258242],\n",
       "       [ 0.29399435, -0.28882072, -0.21000395],\n",
       "       [ 0.39326058,  0.35744639, -0.31254565],\n",
       "       [-0.09686776,  0.02748562, -0.03317696],\n",
       "       [ 0.11819568, -0.10798986,  0.24514516],\n",
       "       [ 0.25582696,  0.0155916 , -0.00503584],\n",
       "       [ 0.0072942 ,  0.10705609,  0.26663738],\n",
       "       [-0.52208412,  0.4345161 ,  0.06579259],\n",
       "       [-0.52418531, -0.1525707 ,  0.19472773]])"
      ]
     },
     "execution_count": 7,
     "metadata": {},
     "output_type": "execute_result"
    }
   ],
   "source": [
    "X-X.mean(0)"
   ]
  },
  {
   "cell_type": "markdown",
   "id": "76fb9318-09d9-44ea-b5b4-553ee82ad6e6",
   "metadata": {},
   "source": [
    "# 연습문제"
   ]
  },
  {
   "cell_type": "markdown",
   "id": "3131fba7-c00c-420b-9600-518a8c403cea",
   "metadata": {},
   "source": [
    "## Seattle 강수량"
   ]
  },
  {
   "cell_type": "code",
   "execution_count": 11,
   "id": "55a9908f-d1c1-4ea8-b676-0c7cde7ae59f",
   "metadata": {
    "tags": []
   },
   "outputs": [
    {
     "data": {
      "text/plain": [
       "29"
      ]
     },
     "execution_count": 11,
     "metadata": {},
     "output_type": "execute_result"
    }
   ],
   "source": [
    "# 다음은 Seattle 2014년 강수량 데이터이다. 물음에 답하시오\n",
    "csv_path = 'http://raw.githubusercontent.com/jakevdp/PythonDataScienceHandbook/master/notebooks/data/Seattle2014.csv'\n",
    "rainfall = pd.read_csv(csv_path)['PRCP'].values\n",
    "inches = rainfall / 254\n",
    "\n",
    "#1. 비가오지 않은 날은 총 몇일인가?\n",
    "np.sum(inches==0)\n",
    "#2. 비가 온 날은 총 몇일인가?\n",
    "np.sum(inches>0)\n",
    "#3. 0.5 인치보다 크고, 1인치보다 작은 강수량은 총 몇일인가?\n",
    "np.sum((inches > 0.5) & (inches <1))"
   ]
  },
  {
   "cell_type": "code",
   "execution_count": 12,
   "id": "2304e187-91f2-4881-b499-b514cbe16288",
   "metadata": {
    "tags": []
   },
   "outputs": [
    {
     "data": {
      "text/plain": [
       "0.3356009726725335"
      ]
     },
     "execution_count": 12,
     "metadata": {},
     "output_type": "execute_result"
    }
   ],
   "source": [
    "rainy = (inches > 0)\n",
    "summer = ((np.arange(365) -172 < 90)) & ((np.arange(365) -172) > 0)\n",
    "# 비가 온 날의 강수량 평균?\n",
    "np.mean(inches[rainy])\n",
    "# 여름 강수량의 평균은?\n",
    "np.mean(inches[summer])\n",
    "# 여름에 최대 강수량은?\n",
    "np.max(inches[summer])\n",
    "#여름이외의 계절에 비가 온날의 강수량 평균은?\n",
    "np.mean(inches[~summer & rainy])"
   ]
  },
  {
   "cell_type": "markdown",
   "id": "95a59c3b-f107-4f1a-b4cf-475ba8617f32",
   "metadata": {},
   "source": [
    "## 2차원 함수 플로팅"
   ]
  },
  {
   "cell_type": "code",
   "execution_count": 14,
   "id": "39b4e89c-38f0-4864-9a84-f3b1870a40e2",
   "metadata": {},
   "outputs": [
    {
     "name": "stdout",
     "output_type": "stream",
     "text": [
      "(50,) (50, 1) (50, 50) (50, 50)\n"
     ]
    }
   ],
   "source": [
    "import numpy as np\n",
    "\n",
    "# 2차원 함수 플로팅하기\n",
    "\n",
    "x = np.linspace(0,5,50)\n",
    "y = np.linspace(0,5,50)[:,np.newaxis]\n",
    "z=np.sin(x)**10+np.cos(10+y*x)*np.cos(x)\n",
    "print(x.shape, y.shape, (x*y).shape, z.shape)"
   ]
  },
  {
   "cell_type": "code",
   "execution_count": 15,
   "id": "b07bdade-d993-4a00-9e1a-a44f54689a6b",
   "metadata": {
    "tags": []
   },
   "outputs": [
    {
     "data": {
      "text/plain": [
       "<matplotlib.colorbar.Colorbar at 0x280f7822f90>"
      ]
     },
     "execution_count": 15,
     "metadata": {},
     "output_type": "execute_result"
    },
    {
     "data": {
      "image/png": "[encoded data removed]",
      "text/plain": [
       "<Figure size 640x480 with 2 Axes>"
      ]
     },
     "metadata": {},
     "output_type": "display_data"
    }
   ],
   "source": [
    "import matplotlib.pyplot as plt\n",
    "plt.imshow(z, extent=[0,5,0,5], cmap='viridis')\n",
    "plt.colorbar()"
   ]
  },
  {
   "cell_type": "markdown",
   "id": "d2b94e7c-6bee-46f2-8788-f9fcba3207fc",
   "metadata": {},
   "source": [
    "## 히스토그램"
   ]
  },
  {
   "cell_type": "markdown",
   "id": "74304014-eb62-434a-b528-2d2fed736b8e",
   "metadata": {},
   "source": [
    "다음 데이터에 대해서 아래 조건을 활용하여 히스토그램을 그려 보시오 \n",
    "\n",
    "* np.searchsorted 함수를 활용\n",
    "* np.add.at 함수를 활용\n",
    "* bins를 -5~5사이로 50칸 만든 다음에 \n",
    "* x가 위의 bins 중에서 어느 칸에 속하는지 파악을 하고 \n",
    "* 해당하는 칸에 몇개가 있는지 np.add.at을 이용하여 카운트한다."
   ]
  },
  {
   "cell_type": "code",
   "execution_count": 4,
   "id": "333b2feb-7b1f-4fa9-8c22-0771c55be5cd",
   "metadata": {
    "tags": []
   },
   "outputs": [
    {
     "data": {
      "text/plain": [
       "[<matplotlib.lines.Line2D at 0x155bede7c10>]"
      ]
     },
     "execution_count": 4,
     "metadata": {},
     "output_type": "execute_result"
    },
    {
     "data": {
      "image/png": "[encoded data removed]",
      "text/plain": [
       "<Figure size 640x480 with 1 Axes>"
      ]
     },
     "metadata": {},
     "output_type": "display_data"
    }
   ],
   "source": [
    "import matplotlib.pyplot as plt\n",
    "\n",
    "np.random.seed(42)\n",
    "x=np.random.randn(100)\n",
    "bins=np.linspace(-5,5,20)\n",
    "counts=np.zeros_like(bins)\n",
    "i=np.searchsorted(bins,x)\n",
    "np.add.at(counts,i,1)\n",
    "plt.plot(bins,counts,linestyle='-', drawstyle='steps')"
   ]
  },
  {
   "cell_type": "markdown",
   "id": "8fea4498-501b-4ace-a184-381c1c07a074",
   "metadata": {},
   "source": [
    "## K 최근접 이웃 알고리즘"
   ]
  },
  {
   "cell_type": "code",
   "execution_count": 9,
   "id": "75f199a8-72f6-468f-934f-702ee4da3270",
   "metadata": {
    "tags": []
   },
   "outputs": [],
   "source": [
    "import numpy as np\n",
    "rand=np.random.RandomState(42)\n",
    "X= rand.rand(10,2)"
   ]
  },
  {
   "cell_type": "code",
   "execution_count": 10,
   "id": "7653f8c7-774d-49d1-b3a9-658ca2bf4251",
   "metadata": {
    "tags": []
   },
   "outputs": [
    {
     "data": {
      "text/plain": [
       "<matplotlib.collections.PathCollection at 0x26998986410>"
      ]
     },
     "execution_count": 10,
     "metadata": {},
     "output_type": "execute_result"
    },
    {
     "data": {
      "image/png": "[encoded data removed]",
      "text/plain": [
       "<Figure size 640x480 with 1 Axes>"
      ]
     },
     "metadata": {},
     "output_type": "display_data"
    }
   ],
   "source": [
    "import matplotlib.pyplot as plt\n",
    "import seaborn\n",
    "seaborn.set()\n",
    "plt.scatter(X[:,0], X[:,1], s=100)"
   ]
  },
  {
   "cell_type": "code",
   "execution_count": 11,
   "id": "6df305b9-9aba-4851-a2f0-58f89697cd94",
   "metadata": {
    "tags": []
   },
   "outputs": [],
   "source": [
    "x1=X[:,np.newaxis,:]\n",
    "x2=X[np.newaxis,:,:]\n",
    "difference = x1-x2"
   ]
  },
  {
   "cell_type": "code",
   "execution_count": 90,
   "id": "a115d164-cbce-4abb-8a12-40c6a330e665",
   "metadata": {
    "tags": []
   },
   "outputs": [
    {
     "data": {
      "text/plain": [
       "(10, 1, 2)"
      ]
     },
     "execution_count": 90,
     "metadata": {},
     "output_type": "execute_result"
    }
   ],
   "source": [
    "x1.shape"
   ]
  },
  {
   "cell_type": "code",
   "execution_count": 91,
   "id": "855523f0-e6bf-43d3-8f97-8ff2d8bc9785",
   "metadata": {
    "tags": []
   },
   "outputs": [
    {
     "data": {
      "text/plain": [
       "(1, 10, 2)"
      ]
     },
     "execution_count": 91,
     "metadata": {},
     "output_type": "execute_result"
    }
   ],
   "source": [
    "x2.shape"
   ]
  },
  {
   "cell_type": "code",
   "execution_count": 80,
   "id": "394a8547-a984-4716-a831-d53c95588415",
   "metadata": {
    "tags": []
   },
   "outputs": [
    {
     "name": "stdout",
     "output_type": "stream",
     "text": [
      "[[0.37454012 0.95071431]] 0.3745401188473625 0.9507143064099162\n"
     ]
    }
   ],
   "source": [
    "print(x1[0], x1[0][0][0], x1[0][0][1])"
   ]
  },
  {
   "cell_type": "code",
   "execution_count": 81,
   "id": "bddb85f9-a77d-42fa-8717-794557d1c4b6",
   "metadata": {
    "tags": []
   },
   "outputs": [
    {
     "name": "stdout",
     "output_type": "stream",
     "text": [
      "[[0.73199394 0.59865848]] 0.7319939418114051 0.5986584841970366\n"
     ]
    }
   ],
   "source": [
    "print(x1[1], x1[1][0][0], x1[1][0][1])"
   ]
  },
  {
   "cell_type": "code",
   "execution_count": 88,
   "id": "20b5957f-9b3a-44ea-8e78-6b760acd4b48",
   "metadata": {
    "tags": []
   },
   "outputs": [
    {
     "name": "stdout",
     "output_type": "stream",
     "text": [
      "[[0.37454012 0.95071431]\n",
      " [0.73199394 0.59865848]\n",
      " [0.15601864 0.15599452]\n",
      " [0.05808361 0.86617615]\n",
      " [0.60111501 0.70807258]\n",
      " [0.02058449 0.96990985]\n",
      " [0.83244264 0.21233911]\n",
      " [0.18182497 0.18340451]\n",
      " [0.30424224 0.52475643]\n",
      " [0.43194502 0.29122914]] 0.3745401188473625 0.9507143064099162\n"
     ]
    }
   ],
   "source": [
    "print(x2[0], x2[0][0][0], x2[0][0][1])"
   ]
  },
  {
   "cell_type": "code",
   "execution_count": 89,
   "id": "427ee639-b7a8-4615-ad79-e869edc4fa71",
   "metadata": {
    "tags": []
   },
   "outputs": [
    {
     "name": "stdout",
     "output_type": "stream",
     "text": [
      "[[0.37454012 0.95071431]\n",
      " [0.73199394 0.59865848]\n",
      " [0.15601864 0.15599452]\n",
      " [0.05808361 0.86617615]\n",
      " [0.60111501 0.70807258]\n",
      " [0.02058449 0.96990985]\n",
      " [0.83244264 0.21233911]\n",
      " [0.18182497 0.18340451]\n",
      " [0.30424224 0.52475643]\n",
      " [0.43194502 0.29122914]] 0.7319939418114051 0.5986584841970366\n"
     ]
    }
   ],
   "source": [
    "print(x2[0], x2[0][1][0], x2[0][1][1])"
   ]
  },
  {
   "cell_type": "code",
   "execution_count": 25,
   "id": "a7b551e0-dd77-4bca-b39e-d04e77d547b1",
   "metadata": {
    "tags": []
   },
   "outputs": [
    {
     "data": {
      "text/plain": [
       "array([[[ 0.        ,  0.        ],\n",
       "        [-0.35745382,  0.35205582],\n",
       "        [ 0.21852148,  0.79471979],\n",
       "        [ 0.31645651,  0.08453816],\n",
       "        [-0.22657489,  0.24264173],\n",
       "        [ 0.35395562, -0.01919555],\n",
       "        [-0.45790252,  0.7383752 ],\n",
       "        [ 0.19271515,  0.7673098 ],\n",
       "        [ 0.07029788,  0.42595787],\n",
       "        [-0.0574049 ,  0.65948517]],\n",
       "\n",
       "       [[ 0.35745382, -0.35205582],\n",
       "        [ 0.        ,  0.        ],\n",
       "        [ 0.5759753 ,  0.44266396],\n",
       "        [ 0.67391033, -0.26751766],\n",
       "        [ 0.13087893, -0.10941409],\n",
       "        [ 0.71140945, -0.37125137],\n",
       "        [-0.1004487 ,  0.38631937],\n",
       "        [ 0.55016897,  0.41525397],\n",
       "        [ 0.4277517 ,  0.07390205],\n",
       "        [ 0.30004892,  0.30742934]],\n",
       "\n",
       "       [[-0.21852148, -0.79471979],\n",
       "        [-0.5759753 , -0.44266396],\n",
       "        [ 0.        ,  0.        ],\n",
       "        [ 0.09793503, -0.71018163],\n",
       "        [-0.44509637, -0.55207806],\n",
       "        [ 0.13543415, -0.81391533],\n",
       "        [-0.676424  , -0.05634459],\n",
       "        [-0.02580633, -0.02740999],\n",
       "        [-0.1482236 , -0.36876191],\n",
       "        [-0.27592638, -0.13523462]],\n",
       "\n",
       "       [[-0.31645651, -0.08453816],\n",
       "        [-0.67391033,  0.26751766],\n",
       "        [-0.09793503,  0.71018163],\n",
       "        [ 0.        ,  0.        ],\n",
       "        [-0.5430314 ,  0.15810357],\n",
       "        [ 0.03749912, -0.10373371],\n",
       "        [-0.77435903,  0.65383704],\n",
       "        [-0.12374136,  0.68277164],\n",
       "        [-0.24615863,  0.34141971],\n",
       "        [-0.37386141,  0.57494701]],\n",
       "\n",
       "       [[ 0.22657489, -0.24264173],\n",
       "        [-0.13087893,  0.10941409],\n",
       "        [ 0.44509637,  0.55207806],\n",
       "        [ 0.5430314 , -0.15810357],\n",
       "        [ 0.        ,  0.        ],\n",
       "        [ 0.58053052, -0.26183727],\n",
       "        [-0.23132763,  0.49573347],\n",
       "        [ 0.41929004,  0.52466807],\n",
       "        [ 0.29687277,  0.18331615],\n",
       "        [ 0.16916999,  0.41684344]],\n",
       "\n",
       "       [[-0.35395562,  0.01919555],\n",
       "        [-0.71140945,  0.37125137],\n",
       "        [-0.13543415,  0.81391533],\n",
       "        [-0.03749912,  0.10373371],\n",
       "        [-0.58053052,  0.26183727],\n",
       "        [ 0.        ,  0.        ],\n",
       "        [-0.81185815,  0.75757074],\n",
       "        [-0.16124047,  0.78650534],\n",
       "        [-0.28365775,  0.44515342],\n",
       "        [-0.41136052,  0.67868071]],\n",
       "\n",
       "       [[ 0.45790252, -0.7383752 ],\n",
       "        [ 0.1004487 , -0.38631937],\n",
       "        [ 0.676424  ,  0.05634459],\n",
       "        [ 0.77435903, -0.65383704],\n",
       "        [ 0.23132763, -0.49573347],\n",
       "        [ 0.81185815, -0.75757074],\n",
       "        [ 0.        ,  0.        ],\n",
       "        [ 0.65061767,  0.0289346 ],\n",
       "        [ 0.5282004 , -0.31241732],\n",
       "        [ 0.40049762, -0.07889003]],\n",
       "\n",
       "       [[-0.19271515, -0.7673098 ],\n",
       "        [-0.55016897, -0.41525397],\n",
       "        [ 0.02580633,  0.02740999],\n",
       "        [ 0.12374136, -0.68277164],\n",
       "        [-0.41929004, -0.52466807],\n",
       "        [ 0.16124047, -0.78650534],\n",
       "        [-0.65061767, -0.0289346 ],\n",
       "        [ 0.        ,  0.        ],\n",
       "        [-0.12241728, -0.34135192],\n",
       "        [-0.25012005, -0.10782463]],\n",
       "\n",
       "       [[-0.07029788, -0.42595787],\n",
       "        [-0.4277517 , -0.07390205],\n",
       "        [ 0.1482236 ,  0.36876191],\n",
       "        [ 0.24615863, -0.34141971],\n",
       "        [-0.29687277, -0.18331615],\n",
       "        [ 0.28365775, -0.44515342],\n",
       "        [-0.5282004 ,  0.31241732],\n",
       "        [ 0.12241728,  0.34135192],\n",
       "        [ 0.        ,  0.        ],\n",
       "        [-0.12770278,  0.23352729]],\n",
       "\n",
       "       [[ 0.0574049 , -0.65948517],\n",
       "        [-0.30004892, -0.30742934],\n",
       "        [ 0.27592638,  0.13523462],\n",
       "        [ 0.37386141, -0.57494701],\n",
       "        [-0.16916999, -0.41684344],\n",
       "        [ 0.41136052, -0.67868071],\n",
       "        [-0.40049762,  0.07889003],\n",
       "        [ 0.25012005,  0.10782463],\n",
       "        [ 0.12770278, -0.23352729],\n",
       "        [ 0.        ,  0.        ]]])"
      ]
     },
     "execution_count": 25,
     "metadata": {},
     "output_type": "execute_result"
    }
   ],
   "source": [
    "difference"
   ]
  },
  {
   "cell_type": "code",
   "execution_count": 23,
   "id": "572b6ff8-decf-41a6-b6c8-b8cb6e597256",
   "metadata": {
    "tags": []
   },
   "outputs": [
    {
     "data": {
      "text/plain": [
       "array([[0.37454012, 0.95071431],\n",
       "       [0.73199394, 0.59865848],\n",
       "       [0.15601864, 0.15599452],\n",
       "       [0.05808361, 0.86617615],\n",
       "       [0.60111501, 0.70807258],\n",
       "       [0.02058449, 0.96990985],\n",
       "       [0.83244264, 0.21233911],\n",
       "       [0.18182497, 0.18340451],\n",
       "       [0.30424224, 0.52475643],\n",
       "       [0.43194502, 0.29122914]])"
      ]
     },
     "execution_count": 23,
     "metadata": {},
     "output_type": "execute_result"
    }
   ],
   "source": [
    "x2[0]"
   ]
  },
  {
   "cell_type": "code",
   "execution_count": 14,
   "id": "8a1a27d6-0748-4782-ae3e-c4fb9736edaf",
   "metadata": {
    "tags": []
   },
   "outputs": [
    {
     "data": {
      "text/plain": [
       "array([[[ 0.        ,  0.        ],\n",
       "        [-0.35745382,  0.35205582],\n",
       "        [ 0.21852148,  0.79471979],\n",
       "        [ 0.31645651,  0.08453816],\n",
       "        [-0.22657489,  0.24264173],\n",
       "        [ 0.35395562, -0.01919555],\n",
       "        [-0.45790252,  0.7383752 ],\n",
       "        [ 0.19271515,  0.7673098 ],\n",
       "        [ 0.07029788,  0.42595787],\n",
       "        [-0.0574049 ,  0.65948517]],\n",
       "\n",
       "       [[ 0.35745382, -0.35205582],\n",
       "        [ 0.        ,  0.        ],\n",
       "        [ 0.5759753 ,  0.44266396],\n",
       "        [ 0.67391033, -0.26751766],\n",
       "        [ 0.13087893, -0.10941409],\n",
       "        [ 0.71140945, -0.37125137],\n",
       "        [-0.1004487 ,  0.38631937],\n",
       "        [ 0.55016897,  0.41525397],\n",
       "        [ 0.4277517 ,  0.07390205],\n",
       "        [ 0.30004892,  0.30742934]],\n",
       "\n",
       "       [[-0.21852148, -0.79471979],\n",
       "        [-0.5759753 , -0.44266396],\n",
       "        [ 0.        ,  0.        ],\n",
       "        [ 0.09793503, -0.71018163],\n",
       "        [-0.44509637, -0.55207806],\n",
       "        [ 0.13543415, -0.81391533],\n",
       "        [-0.676424  , -0.05634459],\n",
       "        [-0.02580633, -0.02740999],\n",
       "        [-0.1482236 , -0.36876191],\n",
       "        [-0.27592638, -0.13523462]],\n",
       "\n",
       "       [[-0.31645651, -0.08453816],\n",
       "        [-0.67391033,  0.26751766],\n",
       "        [-0.09793503,  0.71018163],\n",
       "        [ 0.        ,  0.        ],\n",
       "        [-0.5430314 ,  0.15810357],\n",
       "        [ 0.03749912, -0.10373371],\n",
       "        [-0.77435903,  0.65383704],\n",
       "        [-0.12374136,  0.68277164],\n",
       "        [-0.24615863,  0.34141971],\n",
       "        [-0.37386141,  0.57494701]],\n",
       "\n",
       "       [[ 0.22657489, -0.24264173],\n",
       "        [-0.13087893,  0.10941409],\n",
       "        [ 0.44509637,  0.55207806],\n",
       "        [ 0.5430314 , -0.15810357],\n",
       "        [ 0.        ,  0.        ],\n",
       "        [ 0.58053052, -0.26183727],\n",
       "        [-0.23132763,  0.49573347],\n",
       "        [ 0.41929004,  0.52466807],\n",
       "        [ 0.29687277,  0.18331615],\n",
       "        [ 0.16916999,  0.41684344]],\n",
       "\n",
       "       [[-0.35395562,  0.01919555],\n",
       "        [-0.71140945,  0.37125137],\n",
       "        [-0.13543415,  0.81391533],\n",
       "        [-0.03749912,  0.10373371],\n",
       "        [-0.58053052,  0.26183727],\n",
       "        [ 0.        ,  0.        ],\n",
       "        [-0.81185815,  0.75757074],\n",
       "        [-0.16124047,  0.78650534],\n",
       "        [-0.28365775,  0.44515342],\n",
       "        [-0.41136052,  0.67868071]],\n",
       "\n",
       "       [[ 0.45790252, -0.7383752 ],\n",
       "        [ 0.1004487 , -0.38631937],\n",
       "        [ 0.676424  ,  0.05634459],\n",
       "        [ 0.77435903, -0.65383704],\n",
       "        [ 0.23132763, -0.49573347],\n",
       "        [ 0.81185815, -0.75757074],\n",
       "        [ 0.        ,  0.        ],\n",
       "        [ 0.65061767,  0.0289346 ],\n",
       "        [ 0.5282004 , -0.31241732],\n",
       "        [ 0.40049762, -0.07889003]],\n",
       "\n",
       "       [[-0.19271515, -0.7673098 ],\n",
       "        [-0.55016897, -0.41525397],\n",
       "        [ 0.02580633,  0.02740999],\n",
       "        [ 0.12374136, -0.68277164],\n",
       "        [-0.41929004, -0.52466807],\n",
       "        [ 0.16124047, -0.78650534],\n",
       "        [-0.65061767, -0.0289346 ],\n",
       "        [ 0.        ,  0.        ],\n",
       "        [-0.12241728, -0.34135192],\n",
       "        [-0.25012005, -0.10782463]],\n",
       "\n",
       "       [[-0.07029788, -0.42595787],\n",
       "        [-0.4277517 , -0.07390205],\n",
       "        [ 0.1482236 ,  0.36876191],\n",
       "        [ 0.24615863, -0.34141971],\n",
       "        [-0.29687277, -0.18331615],\n",
       "        [ 0.28365775, -0.44515342],\n",
       "        [-0.5282004 ,  0.31241732],\n",
       "        [ 0.12241728,  0.34135192],\n",
       "        [ 0.        ,  0.        ],\n",
       "        [-0.12770278,  0.23352729]],\n",
       "\n",
       "       [[ 0.0574049 , -0.65948517],\n",
       "        [-0.30004892, -0.30742934],\n",
       "        [ 0.27592638,  0.13523462],\n",
       "        [ 0.37386141, -0.57494701],\n",
       "        [-0.16916999, -0.41684344],\n",
       "        [ 0.41136052, -0.67868071],\n",
       "        [-0.40049762,  0.07889003],\n",
       "        [ 0.25012005,  0.10782463],\n",
       "        [ 0.12770278, -0.23352729],\n",
       "        [ 0.        ,  0.        ]]])"
      ]
     },
     "execution_count": 14,
     "metadata": {},
     "output_type": "execute_result"
    }
   ],
   "source": [
    "difference"
   ]
  },
  {
   "cell_type": "code",
   "execution_count": 38,
   "id": "2bc3af6e-7ae8-4148-b5cf-1ac4c54a33b7",
   "metadata": {
    "tags": []
   },
   "outputs": [],
   "source": [
    "a=np.array([1,2,3])"
   ]
  },
  {
   "cell_type": "code",
   "execution_count": 47,
   "id": "70514c97-cb3c-4341-ae09-4f644bad991c",
   "metadata": {
    "tags": []
   },
   "outputs": [],
   "source": [
    "b=np.array([0,0,0])"
   ]
  },
  {
   "cell_type": "code",
   "execution_count": 48,
   "id": "0386ab11-a940-48d7-a5b5-644ff889ff73",
   "metadata": {
    "tags": []
   },
   "outputs": [],
   "source": [
    "newa = a[:,np.newaxis]"
   ]
  },
  {
   "cell_type": "code",
   "execution_count": 49,
   "id": "16e815ba-a1d3-4792-8ff4-20aa23ccb3b3",
   "metadata": {
    "tags": []
   },
   "outputs": [],
   "source": [
    "newb = b[np.newaxis,:]"
   ]
  },
  {
   "cell_type": "code",
   "execution_count": 50,
   "id": "762211bb-88e8-4ec7-b47c-f7a3471c02c9",
   "metadata": {
    "tags": []
   },
   "outputs": [
    {
     "data": {
      "text/plain": [
       "array([[1, 1, 1],\n",
       "       [2, 2, 2],\n",
       "       [3, 3, 3]])"
      ]
     },
     "execution_count": 50,
     "metadata": {},
     "output_type": "execute_result"
    }
   ],
   "source": [
    "newa-newb"
   ]
  },
  {
   "cell_type": "code",
   "execution_count": 52,
   "id": "24cc1736-1e2d-4517-a655-b65ae56b6727",
   "metadata": {
    "tags": []
   },
   "outputs": [
    {
     "data": {
      "text/plain": [
       "array([[1, 1, 1],\n",
       "       [2, 2, 2],\n",
       "       [3, 3, 3]])"
      ]
     },
     "execution_count": 52,
     "metadata": {},
     "output_type": "execute_result"
    }
   ],
   "source": [
    "newa-newb"
   ]
  },
  {
   "cell_type": "code",
   "execution_count": null,
   "id": "735f13da-3ce1-49c9-9dee-a3fd0dd542c6",
   "metadata": {},
   "outputs": [],
   "source": []
  }
 ],
 "metadata": {
  "kernelspec": {
   "display_name": "Python 3 (ipykernel)",
   "language": "python",
   "name": "python3"
  },
  "language_info": {
   "codemirror_mode": {
    "name": "ipython",
    "version": 3
   },
   "file_extension": ".py",
   "mimetype": "text/x-python",
   "name": "python",
   "nbconvert_exporter": "python",
   "pygments_lexer": "ipython3",
   "version": "3.11.1"
  },
  "toc-autonumbering": true
 },
 "nbformat": 4,
 "nbformat_minor": 5
}
