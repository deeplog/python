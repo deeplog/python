{
 "cells": [
  {
   "cell_type": "code",
   "execution_count": 3,
   "id": "fb4d06be-714b-408a-8c11-8893ad8debe3",
   "metadata": {
    "tags": []
   },
   "outputs": [],
   "source": [
    "import numpy as np\n",
    "import pandas as pd"
   ]
  },
  {
   "cell_type": "code",
   "execution_count": 20,
   "id": "4b7cf77d-19c6-406e-be2a-5cfc675431c7",
   "metadata": {
    "tags": []
   },
   "outputs": [],
   "source": [
    "#브로드캐스팅 예제"
   ]
  },
  {
   "cell_type": "code",
   "execution_count": 27,
   "id": "480ba47a-6edb-4265-9495-741470e53831",
   "metadata": {
    "tags": []
   },
   "outputs": [
    {
     "name": "stdout",
     "output_type": "stream",
     "text": [
      "[[1. 1. 1.]\n",
      " [1. 1. 1.]]\n",
      "[0 1 2]\n"
     ]
    },
    {
     "data": {
      "text/plain": [
       "array([[1., 2., 3.],\n",
       "       [1., 2., 3.]])"
      ]
     },
     "execution_count": 27,
     "metadata": {},
     "output_type": "execute_result"
    }
   ],
   "source": [
    "#브로드캐스팅 예제 1\n",
    "M=np.ones((2,3))\n",
    "a=np.arange(3)\n",
    "\n",
    "print(M) # (2,3)\n",
    "print(a) # (3,) => (1,3) => (2,3)\n",
    "M+a "
   ]
  },
  {
   "cell_type": "code",
   "execution_count": 28,
   "id": "7e6ae2ef-0bde-4e2f-84fc-96c6912bcc4c",
   "metadata": {
    "tags": []
   },
   "outputs": [],
   "source": [
    "#브로드캐스팅 예제2"
   ]
  },
  {
   "cell_type": "code",
   "execution_count": 32,
   "id": "c4ce8ca0-0cea-44fe-b30e-b99e9b0b54a3",
   "metadata": {
    "tags": []
   },
   "outputs": [
    {
     "data": {
      "text/plain": [
       "array([[0, 1, 2],\n",
       "       [1, 2, 3],\n",
       "       [2, 3, 4]])"
      ]
     },
     "execution_count": 32,
     "metadata": {},
     "output_type": "execute_result"
    }
   ],
   "source": [
    "#브로드캐스팅 예제 2\n",
    "a = np.arange(3).reshape((3,1))\n",
    "b = np.arange(3) \n",
    "\n",
    "a #(3,1) ==> (3,3) \n",
    "b #(3,) => (1,3)==>(3,3)\n",
    "a+b # "
   ]
  },
  {
   "cell_type": "code",
   "execution_count": 20,
   "id": "9e77f6ed-d7dd-4229-ac01-2b2665bac192",
   "metadata": {
    "tags": []
   },
   "outputs": [],
   "source": [
    "#아래의 10*3 배열을 브로드캐스팅을 이용하여 centering 하세요\n",
    "#X.mean(0)은 첫번째 차원의 특성별 평균\n",
    "X=np.random.random((10,3))"
   ]
  },
  {
   "cell_type": "code",
   "execution_count": 21,
   "id": "2b41d544-6778-46b4-9ac1-f4574018fb7d",
   "metadata": {
    "tags": []
   },
   "outputs": [
    {
     "data": {
      "text/plain": [
       "array([0.39893776, 0.51642337, 0.51042241, 0.52866055, 0.40430425,\n",
       "       0.43457529, 0.33592249, 0.15139051, 0.47041861, 0.56755031])"
      ]
     },
     "execution_count": 21,
     "metadata": {},
     "output_type": "execute_result"
    }
   ],
   "source": [
    "X.mean(1)"
   ]
  },
  {
   "cell_type": "code",
   "execution_count": 15,
   "id": "c9ea1c9e-706d-4715-bdcf-bb60a56d55c7",
   "metadata": {
    "tags": []
   },
   "outputs": [
    {
     "data": {
      "text/plain": [
       "array([0.56987315, 0.43383959, 0.37547268])"
      ]
     },
     "execution_count": 15,
     "metadata": {},
     "output_type": "execute_result"
    }
   ],
   "source": [
    "X.mean(0)"
   ]
  },
  {
   "cell_type": "code",
   "execution_count": 17,
   "id": "dad169b7-a7f6-484c-88c6-6d388e9adffa",
   "metadata": {
    "tags": []
   },
   "outputs": [
    {
     "data": {
      "text/plain": [
       "array([[ 0.09917278, -0.21018463,  0.21109454],\n",
       "       [-0.01015237,  0.00490998, -0.35318037],\n",
       "       [ 0.19778408, -0.19711579, -0.21791059],\n",
       "       [-0.23137823,  0.09052319,  0.33336001],\n",
       "       [ 0.10369374,  0.18471546, -0.02030416],\n",
       "       [-0.067057  , -0.30607001, -0.05895246],\n",
       "       [ 0.05330008,  0.34344651, -0.24920264],\n",
       "       [-0.39947204,  0.07976865,  0.35120746],\n",
       "       [ 0.41564731, -0.11613369, -0.22439714],\n",
       "       [-0.16153835,  0.12614034,  0.22828535]])"
      ]
     },
     "execution_count": 17,
     "metadata": {},
     "output_type": "execute_result"
    }
   ],
   "source": [
    "X-X.mean(0)"
   ]
  },
  {
   "cell_type": "code",
   "execution_count": 48,
   "id": "55a9908f-d1c1-4ea8-b676-0c7cde7ae59f",
   "metadata": {
    "tags": []
   },
   "outputs": [
    {
     "data": {
      "text/plain": [
       "29"
      ]
     },
     "execution_count": 48,
     "metadata": {},
     "output_type": "execute_result"
    }
   ],
   "source": [
    "# 다음은 Seattle 2014년 강수량 데이터이다. 물음에 답하시오\n",
    "csv_path = 'http://raw.githubusercontent.com/jakevdp/PythonDataScienceHandbook/master/notebooks/data/Seattle2014.csv'\n",
    "rainfall = pd.read_csv(csv_path)['PRCP'].values\n",
    "inches = rainfall / 254\n",
    "\n",
    "#1. 비가오지 않은 날은 총 몇일인가?\n",
    "np.sum(inches==0)\n",
    "\n",
    "#2. 비가 온 날은 총 몇일인가?\n",
    "np.sum(inches>0)\n",
    "\n",
    "#3. 0.5 인치보다 크고, 1인치보다 작은 강수량은 총 몇일인가?\n",
    "np.sum((inches > 0.5) & (inches <1))"
   ]
  },
  {
   "cell_type": "code",
   "execution_count": 69,
   "id": "2304e187-91f2-4881-b499-b514cbe16288",
   "metadata": {
    "tags": []
   },
   "outputs": [],
   "source": [
    "rainy = (inches > 0)\n",
    "\n",
    "summer = ((np.arange(365) -172 < 90)) & ((np.arange(365) -172) > 0)\n",
    "\n",
    "# 비가 온 날의 강수량 평균?\n",
    "np.mean(inches[rainy])\n",
    "\n",
    "# 여름 강수량의 평균은?\n",
    "np.mean(inches[summer])\n",
    "\n",
    "# 여름에 최대 강수량은?\n",
    "np.max(inches[summer])\n",
    "\n",
    "#여름이외의 계절에 비가 온날의 강수량 평균은?\n",
    "np.mean(inches[~summer & rainy])"
   ]
  },
  {
   "cell_type": "code",
   "execution_count": null,
   "id": "39b4e89c-38f0-4864-9a84-f3b1870a40e2",
   "metadata": {},
   "outputs": [],
   "source": []
  }
 ],
 "metadata": {
  "kernelspec": {
   "display_name": "Python 3 (ipykernel)",
   "language": "python",
   "name": "python3"
  },
  "language_info": {
   "codemirror_mode": {
    "name": "ipython",
    "version": 3
   },
   "file_extension": ".py",
   "mimetype": "text/x-python",
   "name": "python",
   "nbconvert_exporter": "python",
   "pygments_lexer": "ipython3",
   "version": "3.11.1"
  }
 },
 "nbformat": 4,
 "nbformat_minor": 5
}
