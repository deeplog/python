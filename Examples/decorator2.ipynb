{
 "cells": [
  {
   "cell_type": "markdown",
   "id": "81f5ca3e",
   "metadata": {},
   "source": [
    "[참고: mastering decorators](https://levelup.gitconnected.com/mastering-decorators-in-python-3-588cb34fff5e)"
   ]
  },
  {
   "cell_type": "markdown",
   "id": "26d16f8e",
   "metadata": {},
   "source": [
    "파이썬은 일급 프로그래밍 언어   \n",
    "함수는 오브젝터처럼 인자나 반환값으로 사용될수 있다는 의미 "
   ]
  },
  {
   "cell_type": "code",
   "execution_count": 1,
   "id": "900c218c",
   "metadata": {},
   "outputs": [
    {
     "data": {
      "text/plain": [
       "'getting her pink roses!'"
      ]
     },
     "execution_count": 1,
     "metadata": {},
     "output_type": "execute_result"
    }
   ],
   "source": [
    "def pick_roses(color):\n",
    "    return f\"getting her {color} roses!\"\n",
    "\n",
    "#함수를 인자로 전달한다.\n",
    "def get_her_flowers(picker):\n",
    "    return picker(\"pink\")\n",
    "\n",
    "get_her_flowers(pick_roses)"
   ]
  },
  {
   "cell_type": "markdown",
   "id": "05165c13",
   "metadata": {},
   "source": [
    "### Function Decorators\n",
    "함수 데코레이터는 함수를 입력으로 한다."
   ]
  },
  {
   "cell_type": "markdown",
   "id": "dca99dca",
   "metadata": {},
   "source": [
    "### Case 1- decorators without direct input"
   ]
  },
  {
   "cell_type": "code",
   "execution_count": 11,
   "id": "f964ab7e",
   "metadata": {},
   "outputs": [
    {
     "name": "stdout",
     "output_type": "stream",
     "text": [
      "inside __init__() with input function my_funcion\n",
      "inside __init__() with input function my_funcion_no_call\n",
      "finished decorating my_funcion()\n",
      "inside __call__() with args: (1, 2, 3) and kwargs: {}\n",
      "inside my_funcion()\n",
      "immediately after my_function() line\n"
     ]
    }
   ],
   "source": [
    "class Decorator(object):\n",
    "\n",
    "    def __init__(self, f):\n",
    "        print(f\"inside __init__() with input function {f.__name__}\")\n",
    "        self.f = f  # function definition is complete and is available here\n",
    "\n",
    "    def __call__(self, *args, **kwargs):\n",
    "        print(f\"inside __call__() with args: {args} and kwargs: {kwargs}\")\n",
    "        self.f(*args, **kwargs)\n",
    "\n",
    "\n",
    "@Decorator\n",
    "def my_funcion(a, b, c):\n",
    "    print(\"inside my_funcion()\")\n",
    "\n",
    "@Decorator\n",
    "def my_funcion_no_call(a, b, c):\n",
    "    print(\"inside my_funcion_no_call()\")\n",
    "    \n",
    "print(\"finished decorating my_funcion()\")\n",
    "my_funcion(1, 2, 3)\n",
    "print(\"immediately after my_function() line\")"
   ]
  },
  {
   "cell_type": "markdown",
   "id": "ffeb02d3",
   "metadata": {},
   "source": [
    "* Decoration Time"
   ]
  },
  {
   "cell_type": "code",
   "execution_count": 12,
   "id": "a77f1a39",
   "metadata": {},
   "outputs": [
    {
     "name": "stdout",
     "output_type": "stream",
     "text": [
      "inside __init__() with input function my_function\n"
     ]
    }
   ],
   "source": [
    "def my_function(a,b,c):\n",
    "    print(\"inside my_function()\")\n",
    "    \n",
    "my_function = Decorator(my_function)"
   ]
  },
  {
   "cell_type": "code",
   "execution_count": 14,
   "id": "2e8ea402",
   "metadata": {},
   "outputs": [
    {
     "data": {
      "text/plain": [
       "__main__.Decorator"
      ]
     },
     "execution_count": 14,
     "metadata": {},
     "output_type": "execute_result"
    }
   ],
   "source": [
    "type(my_function)"
   ]
  },
  {
   "cell_type": "markdown",
   "id": "ca8a22ab",
   "metadata": {},
   "source": [
    "* Invocation time"
   ]
  },
  {
   "cell_type": "code",
   "execution_count": 4,
   "id": "041e8db9",
   "metadata": {},
   "outputs": [
    {
     "name": "stdout",
     "output_type": "stream",
     "text": [
      "inside __call__() with args: () and kwargs: {'a': 1, 'b': 2, 'c': 3}\n",
      "inside my_function()\n"
     ]
    }
   ],
   "source": [
    " my_function(a=1,b=2,c=3)"
   ]
  },
  {
   "cell_type": "markdown",
   "id": "3e13860e",
   "metadata": {},
   "source": [
    "### Case2 - decorators with direct input\n",
    "데코레이터에 인자를 전달하고 싶을 때   \n",
    "__init__ 함수에 인자를 전달하면 된다. "
   ]
  },
  {
   "cell_type": "code",
   "execution_count": 16,
   "id": "6566fd5c",
   "metadata": {},
   "outputs": [
    {
     "name": "stdout",
     "output_type": "stream",
     "text": [
      "inside __init__() with input function with args ('decorator arg 1', 'decorator arg 2') and kwargs {}\n",
      "inside __call__() with function my_funcion\n",
      "inside __init__() with input function with args ('decorator arg 3', 'decorator arg 4') and kwargs {}\n",
      "inside __call__() with function my_funcion_no_call\n",
      "finished decorating my_funcion()\n",
      "inside wrapped with args (1, 2, 3) and kwargs {}\n",
      "inside my_funcion()\n",
      "immediately after my_function() line\n"
     ]
    }
   ],
   "source": [
    "class Decorator(object):\n",
    "\n",
    "    def __init__(self, *decorator_args, **decorator_kwargs):\n",
    "        print(f\"inside __init__() with input function with args {decorator_args} and kwargs {decorator_kwargs}\")\n",
    "\n",
    "    def __call__(self, f):\n",
    "        print(f\"inside __call__() with function {f.__name__}\")\n",
    "\n",
    "        def wrapped(*args, **kwargs):\n",
    "            print(f\"inside wrapped with args {args} and kwargs {kwargs}\")\n",
    "            return f(*args, **kwargs)\n",
    "\n",
    "        return wrapped\n",
    "\n",
    "\n",
    "@Decorator(\"decorator arg 1\", \"decorator arg 2\")\n",
    "def my_funcion(a, b, c):\n",
    "    print(\"inside my_funcion()\")\n",
    "\n",
    "\n",
    "@Decorator(\"decorator arg 3\", \"decorator arg 4\")\n",
    "def my_funcion_no_call(a, b, c):\n",
    "    print(\"inside my_funcion_no_call()\")\n",
    "\n",
    "print(\"finished decorating my_funcion()\")\n",
    "my_funcion(1, 2, 3)\n",
    "print(\"immediately after my_function() line\")"
   ]
  },
  {
   "cell_type": "markdown",
   "id": "22c8e30b",
   "metadata": {},
   "source": [
    "* Decoration Time"
   ]
  },
  {
   "cell_type": "code",
   "execution_count": 17,
   "id": "7118597f",
   "metadata": {},
   "outputs": [
    {
     "name": "stdout",
     "output_type": "stream",
     "text": [
      "inside __init__() with input function with args ('arg1', 'arg2') and kwargs {}\n",
      "inside __call__() with function my_function\n"
     ]
    }
   ],
   "source": [
    "def my_function(a, b, c):\n",
    "    print(\"inside my_funcion()\")\n",
    "\n",
    "my_function = Decorator(\"arg1\",\"arg2\")(my_function)"
   ]
  },
  {
   "cell_type": "code",
   "execution_count": 18,
   "id": "aca8e819",
   "metadata": {},
   "outputs": [
    {
     "data": {
      "text/plain": [
       "function"
      ]
     },
     "execution_count": 18,
     "metadata": {},
     "output_type": "execute_result"
    }
   ],
   "source": [
    "type(my_function)"
   ]
  },
  {
   "cell_type": "markdown",
   "id": "97da413b",
   "metadata": {},
   "source": [
    "* Invocation Time"
   ]
  },
  {
   "cell_type": "code",
   "execution_count": 9,
   "id": "70d8a8df",
   "metadata": {},
   "outputs": [
    {
     "name": "stdout",
     "output_type": "stream",
     "text": [
      "inside wrapped with args (1, 2, 3) and kwargs {}\n",
      "inside my_funcion()\n"
     ]
    }
   ],
   "source": [
    "my_function(1,2,3)"
   ]
  },
  {
   "cell_type": "markdown",
   "id": "3c0b5638",
   "metadata": {},
   "source": [
    "### Class Decorators\n",
    "클래스 데코레이터는 파이썬 클래스 객체를 데코레이트한다.   \n",
    "함수와 똑같은 작용을 한다. 데코리이트 하는 객체는 클래스인것만 빼고 말이다."
   ]
  },
  {
   "cell_type": "code",
   "execution_count": 5,
   "id": "31e31cc9",
   "metadata": {},
   "outputs": [],
   "source": [
    "def time_this(func):\n",
    "    def wrapped(*args, **kwargs):\n",
    "        print(\"_________timer starts_________\")\n",
    "        from datetime import datetime\n",
    "        before = datetime.now()\n",
    "        x = func(*args, **kwargs)\n",
    "        after = datetime.now()\n",
    "        print(\"** elapsed Time = {0} **\\n\".format(after - before))\n",
    "        return x\n",
    "\n",
    "    return wrapped\n",
    "\n",
    "\n",
    "def time_all_class_methods(Cls):\n",
    "    # decoration body - doing nothing really since we need to wait until the decorated object is instantiated\n",
    "    class Wrapper:\n",
    "        def __init__(self, *args, **kwargs):\n",
    "            print(f\"__init__() called with args: {args} and kwargs: {kwargs}\")\n",
    "            self.decorated_obj = Cls(*args, **kwargs)\n",
    "\n",
    "        def __getattribute__(self, s):\n",
    "            try:\n",
    "                x = super().__getattribute__(s)\n",
    "                return x\n",
    "            except AttributeError:\n",
    "                pass\n",
    "            x = self.decorated_obj.__getattribute__(s)\n",
    "            if type(x) == type(self.__init__):  # it is an instance method\n",
    "                print(f\"attribute belonging to decorated_obj: {s}\")\n",
    "                return time_this(x)  # this is equivalent of just decorating the method with time_this\n",
    "            else:\n",
    "                return x\n",
    "\n",
    "    return Wrapper  # decoration ends here\n",
    "\n",
    "\n",
    "@time_all_class_methods\n",
    "class MyClass:\n",
    "    def __init__(self):\n",
    "        import time\n",
    "        print('entering MyClass.__init__')\n",
    "        time.sleep(1.8)\n",
    "        print(\"exiting MyClass.__init__\")\n",
    "\n",
    "    def method_x(self):\n",
    "        print(\"entering MyClass.method_x\")\n",
    "        import time\n",
    "        time.sleep(0.7)\n",
    "        print(\"exiting MyClass.method_x\")\n",
    "\n",
    "    def method_y(self):\n",
    "        print(\"entering MyClass.method_x\")\n",
    "        import time\n",
    "        time.sleep(1.2)\n",
    "        print(\"exiting MyClass.method_x\")"
   ]
  },
  {
   "cell_type": "code",
   "execution_count": 6,
   "id": "201021d0",
   "metadata": {},
   "outputs": [
    {
     "name": "stdout",
     "output_type": "stream",
     "text": [
      "__init__() called with args: () and kwargs: {}\n",
      "entering MyClass.__init__\n",
      "exiting MyClass.__init__\n"
     ]
    }
   ],
   "source": [
    "instance = MyClass()"
   ]
  },
  {
   "cell_type": "code",
   "execution_count": 7,
   "id": "7fb0e268",
   "metadata": {},
   "outputs": [
    {
     "name": "stdout",
     "output_type": "stream",
     "text": [
      "attribute belonging to decorated_obj: method_x\n",
      "_________timer starts_________\n",
      "entering MyClass.method_x\n",
      "exiting MyClass.method_x\n",
      "** elapsed Time = 0:00:00.703178 **\n",
      "\n",
      "attribute belonging to decorated_obj: method_y\n",
      "_________timer starts_________\n",
      "entering MyClass.method_x\n",
      "exiting MyClass.method_x\n",
      "** elapsed Time = 0:00:01.201058 **\n",
      "\n"
     ]
    }
   ],
   "source": [
    "instance.method_x()\n",
    "instance.method_y()"
   ]
  },
  {
   "cell_type": "markdown",
   "id": "891c3a91",
   "metadata": {},
   "source": [
    "### __get_attribute__"
   ]
  },
  {
   "cell_type": "code",
   "execution_count": 36,
   "id": "62f0d65e",
   "metadata": {},
   "outputs": [
    {
     "name": "stdout",
     "output_type": "stream",
     "text": [
      "getattribute 호출\n",
      "aaa-ace\n"
     ]
    }
   ],
   "source": [
    "class A:\n",
    "    def __getattribute__(self,name):\n",
    "        print(\"getattribute 호출\")\n",
    "        return ('aaa-'+name)\n",
    "    \n",
    "a = A()\n",
    "a.ace = \"test\"\n",
    "print(a.ace)"
   ]
  }
 ],
 "metadata": {
  "kernelspec": {
   "display_name": "Python 3 (ipykernel)",
   "language": "python",
   "name": "python3"
  },
  "language_info": {
   "codemirror_mode": {
    "name": "ipython",
    "version": 3
   },
   "file_extension": ".py",
   "mimetype": "text/x-python",
   "name": "python",
   "nbconvert_exporter": "python",
   "pygments_lexer": "ipython3",
   "version": "3.8.10"
  }
 },
 "nbformat": 4,
 "nbformat_minor": 5
}
