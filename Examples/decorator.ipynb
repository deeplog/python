{
 "cells": [
  {
   "cell_type": "markdown",
   "id": "11ff336e",
   "metadata": {},
   "source": [
    "### [데코레이터활용](#데코레이터-활용하기)"
   ]
  },
  {
   "cell_type": "markdown",
   "id": "63779186",
   "metadata": {},
   "source": [
    "### 데코레이터 정의\n",
    "어떤 함수에 기능을 추가하고 싶을때    \n",
    "그 함수를 전달한 다음   \n",
    "여러가지 처리를 하고    \n",
    "새로운 기능을 만들어서 반환화면 된다. "
   ]
  },
  {
   "cell_type": "code",
   "execution_count": 2,
   "id": "61f9319a",
   "metadata": {},
   "outputs": [],
   "source": [
    "# 원본함수\n",
    "def print_function():\n",
    "    print(\"this is test\")"
   ]
  },
  {
   "cell_type": "code",
   "execution_count": 3,
   "id": "31fc421a",
   "metadata": {},
   "outputs": [],
   "source": [
    "# 데코레이터 함수\n",
    "# 새로운 기능이 추가된 함수가 반환된다. \n",
    "def decorator_function(original_function):\n",
    "    def wrapper():\n",
    "        print('내가 추가하고 싶은 기능을 추가한다.')\n",
    "        original_function()\n",
    "    return wrapper"
   ]
  },
  {
   "cell_type": "code",
   "execution_count": 4,
   "id": "a70d17bd",
   "metadata": {},
   "outputs": [
    {
     "name": "stdout",
     "output_type": "stream",
     "text": [
      "내가 추가하고 싶은 기능을 추가한다.\n",
      "this is test\n"
     ]
    }
   ],
   "source": [
    "func=decorator_function(print_function)\n",
    "func()"
   ]
  },
  {
   "cell_type": "markdown",
   "id": "fe0a5d3d",
   "metadata": {},
   "source": [
    "### 데코레이터 사용하는 법   \n",
    "원본 함수를 정의할 때 데코레이터 함수를 위에 annotation 한다."
   ]
  },
  {
   "cell_type": "code",
   "execution_count": 5,
   "id": "9bb10841",
   "metadata": {},
   "outputs": [],
   "source": [
    "@decorator_function\n",
    "def print_function():\n",
    "    print(\"this is test\")"
   ]
  },
  {
   "cell_type": "code",
   "execution_count": 6,
   "id": "9d6b0b66",
   "metadata": {},
   "outputs": [
    {
     "name": "stdout",
     "output_type": "stream",
     "text": [
      "내가 추가하고 싶은 기능을 추가한다.\n",
      "this is test\n"
     ]
    }
   ],
   "source": [
    "print_function()"
   ]
  },
  {
   "cell_type": "markdown",
   "id": "8405f498",
   "metadata": {},
   "source": [
    "### 데코레이터 활용하기"
   ]
  },
  {
   "cell_type": "code",
   "execution_count": 7,
   "id": "40023618",
   "metadata": {},
   "outputs": [],
   "source": [
    "def my_logger(original_function):\n",
    "    def wrapper(*args):\n",
    "        original_function(*args)\n",
    "        print(f\"{original_function.__name__}이 실행되었습니다.\")\n",
    "    return wrapper"
   ]
  },
  {
   "cell_type": "code",
   "execution_count": 8,
   "id": "27090e81",
   "metadata": {},
   "outputs": [],
   "source": [
    "@my_logger\n",
    "def my_func(out):\n",
    "    print(out)"
   ]
  },
  {
   "cell_type": "code",
   "execution_count": 9,
   "id": "8db511a4",
   "metadata": {},
   "outputs": [
    {
     "name": "stdout",
     "output_type": "stream",
     "text": [
      "test\n",
      "my_func이 실행되었습니다.\n"
     ]
    }
   ],
   "source": [
    "my_func(\"test\")"
   ]
  },
  {
   "cell_type": "markdown",
   "id": "2949b134",
   "metadata": {},
   "source": [
    "### 클래스 데코레이터"
   ]
  },
  {
   "cell_type": "code",
   "execution_count": 158,
   "id": "5a5af0bf",
   "metadata": {},
   "outputs": [],
   "source": [
    "def my_logger(original_class):\n",
    "    orig_init = original_class.__init__\n",
    "    # Make copy of original __init__, so we can call it without recursion\n",
    "\n",
    "    def __init__(self, id, *args, **kws):\n",
    "        orig_init(self, *args, **kws) # Call the original __init__\n",
    "        print(f\"{orig_init.__name__}이 실행되었습니다.\")\n",
    "\n",
    "    original_class.__init__ = __init__ # Set the class' __init__ to the new one\n",
    "    return original_class"
   ]
  },
  {
   "cell_type": "code",
   "execution_count": 159,
   "id": "470cfccf",
   "metadata": {
    "pycharm": {
     "is_executing": true
    }
   },
   "outputs": [],
   "source": [
    "@my_logger\n",
    "class Foo:\n",
    "    def __init__(self):\n",
    "        self.a =10\n",
    "    def display(self):\n",
    "        print(self.a)\n",
    "        "
   ]
  },
  {
   "cell_type": "code",
   "execution_count": 160,
   "id": "7ab5b51b",
   "metadata": {},
   "outputs": [
    {
     "name": "stdout",
     "output_type": "stream",
     "text": [
      "__init__이 실행되었습니다.\n"
     ]
    },
    {
     "data": {
      "text/plain": [
       "<__main__.Foo at 0x17c0e113220>"
      ]
     },
     "execution_count": 160,
     "metadata": {},
     "output_type": "execute_result"
    }
   ],
   "source": [
    "Foo(10)"
   ]
  },
  {
   "cell_type": "code",
   "execution_count": 161,
   "id": "87728d99",
   "metadata": {},
   "outputs": [
    {
     "name": "stdout",
     "output_type": "stream",
     "text": [
      "10\n"
     ]
    }
   ],
   "source": [
    "foo.display()"
   ]
  },
  {
   "cell_type": "code",
   "execution_count": 162,
   "id": "3b5e8f91",
   "metadata": {},
   "outputs": [],
   "source": [
    "class Foo:\n",
    "    def __init__(self,a):\n",
    "        self.a =a\n",
    "    def display(self):\n",
    "        print(self.a)"
   ]
  },
  {
   "cell_type": "code",
   "execution_count": 163,
   "id": "5dc9a64e",
   "metadata": {},
   "outputs": [],
   "source": [
    "foo = Foo(10)"
   ]
  },
  {
   "cell_type": "code",
   "execution_count": 164,
   "id": "7cc6b849",
   "metadata": {},
   "outputs": [
    {
     "name": "stdout",
     "output_type": "stream",
     "text": [
      "10\n"
     ]
    }
   ],
   "source": [
    "foo.display()"
   ]
  },
  {
   "cell_type": "code",
   "execution_count": 167,
   "id": "06eaf638",
   "metadata": {},
   "outputs": [
    {
     "ename": "TypeError",
     "evalue": "__init__() missing 2 required positional arguments: 'self' and 'id'",
     "output_type": "error",
     "traceback": [
      "\u001b[1;31m---------------------------------------------------------------------------\u001b[0m",
      "\u001b[1;31mTypeError\u001b[0m                                 Traceback (most recent call last)",
      "Input \u001b[1;32mIn [167]\u001b[0m, in \u001b[0;36m<cell line: 2>\u001b[1;34m()\u001b[0m\n\u001b[0;32m      1\u001b[0m foo \u001b[38;5;241m=\u001b[39m my_logger(Foo(\u001b[38;5;241m10\u001b[39m))\n\u001b[1;32m----> 2\u001b[0m \u001b[43mfoo\u001b[49m\u001b[38;5;241;43m.\u001b[39;49m\u001b[38;5;21;43m__init__\u001b[39;49m\u001b[43m(\u001b[49m\u001b[43m)\u001b[49m\n",
      "\u001b[1;31mTypeError\u001b[0m: __init__() missing 2 required positional arguments: 'self' and 'id'"
     ]
    }
   ],
   "source": [
    "foo = my_logger(Foo(10))\n",
    "foo.__init__()"
   ]
  },
  {
   "cell_type": "code",
   "execution_count": 166,
   "id": "4b141b1c",
   "metadata": {},
   "outputs": [
    {
     "name": "stdout",
     "output_type": "stream",
     "text": [
      "10\n"
     ]
    }
   ],
   "source": [
    "foo.display()"
   ]
  },
  {
   "cell_type": "code",
   "execution_count": null,
   "id": "511855f3",
   "metadata": {},
   "outputs": [],
   "source": []
  }
 ],
 "metadata": {
  "kernelspec": {
   "display_name": "Python 3 (ipykernel)",
   "language": "python",
   "name": "python3"
  },
  "language_info": {
   "codemirror_mode": {
    "name": "ipython",
    "version": 3
   },
   "file_extension": ".py",
   "mimetype": "text/x-python",
   "name": "python",
   "nbconvert_exporter": "python",
   "pygments_lexer": "ipython3",
   "version": "3.8.10"
  }
 },
 "nbformat": 4,
 "nbformat_minor": 5
}
