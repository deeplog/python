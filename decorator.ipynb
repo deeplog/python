{
 "cells": [
  {
   "cell_type": "markdown",
   "id": "42102242",
   "metadata": {},
   "source": [
    "### 데코레이터 정의\n",
    "어떤 함수에 기능을 추가하고 싶을때    \n",
    "그 함수를 전달한 다음   \n",
    "여러가지 처리를 하고    \n",
    "새로운 기능을 만들어서 반환화면 된다. "
   ]
  },
  {
   "cell_type": "code",
   "execution_count": 1,
   "id": "692675de",
   "metadata": {},
   "outputs": [],
   "source": [
    "# 원본함수\n",
    "def print_function():\n",
    "    print(\"this is test\")"
   ]
  },
  {
   "cell_type": "code",
   "execution_count": 4,
   "id": "31fc421a",
   "metadata": {},
   "outputs": [],
   "source": [
    "# 데코레이터 함수\n",
    "# 새로운 기능이 추가된 함수가 반환된다. \n",
    "def decorator_function(original_function):\n",
    "    def wrapper():\n",
    "        print('내가 추가하고 싶은 기능을 추가한다.')\n",
    "        original_function()\n",
    "    return wrapper"
   ]
  },
  {
   "cell_type": "code",
   "execution_count": 5,
   "id": "b1828fb1",
   "metadata": {},
   "outputs": [
    {
     "name": "stdout",
     "output_type": "stream",
     "text": [
      "내가 추가하고 싶은 기능을 추가한다.\n",
      "this is test\n"
     ]
    }
   ],
   "source": [
    "func=decorator_function(print_function)\n",
    "func()"
   ]
  },
  {
   "cell_type": "markdown",
   "id": "80a9951b",
   "metadata": {},
   "source": [
    "### 데코레이터 사용하는 법   \n",
    "원본 함수를 정의할 때 데코레이터 함수를 위에 annotation 한다."
   ]
  },
  {
   "cell_type": "code",
   "execution_count": 7,
   "id": "ab449b68",
   "metadata": {},
   "outputs": [],
   "source": [
    "@decorator_function\n",
    "def print_function():\n",
    "    print(\"this is test\")"
   ]
  },
  {
   "cell_type": "code",
   "execution_count": 8,
   "id": "848949b6",
   "metadata": {},
   "outputs": [
    {
     "name": "stdout",
     "output_type": "stream",
     "text": [
      "내가 추가하고 싶은 기능을 추가한다.\n",
      "this is test\n"
     ]
    }
   ],
   "source": [
    "print_function()"
   ]
  },
  {
   "cell_type": "markdown",
   "id": "bcf7117e",
   "metadata": {},
   "source": [
    "### 데코레이터 활용하기"
   ]
  },
  {
   "cell_type": "code",
   "execution_count": 17,
   "id": "ee9b9245",
   "metadata": {},
   "outputs": [],
   "source": [
    "def my_logger(original_function):\n",
    "    def wrapper(*args):\n",
    "        original_function(*args)\n",
    "        print(f\"{original_function.__name__}이 실행되었습니다.\")\n",
    "    return wrapper"
   ]
  },
  {
   "cell_type": "code",
   "execution_count": 18,
   "id": "2a5e957d",
   "metadata": {},
   "outputs": [],
   "source": [
    "@my_logger\n",
    "def my_func(out):\n",
    "    print(out)"
   ]
  },
  {
   "cell_type": "code",
   "execution_count": 19,
   "id": "67f68ca6",
   "metadata": {},
   "outputs": [
    {
     "name": "stdout",
     "output_type": "stream",
     "text": [
      "test\n",
      "my_func이 실행되었습니다.\n"
     ]
    }
   ],
   "source": [
    "my_func(\"test\")"
   ]
  },
  {
   "cell_type": "code",
   "execution_count": null,
   "id": "e6133a60",
   "metadata": {},
   "outputs": [],
   "source": []
  }
 ],
 "metadata": {
  "kernelspec": {
   "display_name": "Python 3 (ipykernel)",
   "language": "python",
   "name": "python3"
  },
  "language_info": {
   "codemirror_mode": {
    "name": "ipython",
    "version": 3
   },
   "file_extension": ".py",
   "mimetype": "text/x-python",
   "name": "python",
   "nbconvert_exporter": "python",
   "pygments_lexer": "ipython3",
   "version": "3.8.10"
  }
 },
 "nbformat": 4,
 "nbformat_minor": 5
}
